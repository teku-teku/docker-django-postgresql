{
  "nbformat": 4,
  "nbformat_minor": 0,
  "metadata": {
    "colab": {
      "provenance": [],
      "history_visible": true,
      "include_colab_link": true
    },
    "kernelspec": {
      "name": "python3",
      "display_name": "Python 3"
    },
    "language_info": {
      "name": "python"
    }
  },
  "cells": [
    {
      "cell_type": "markdown",
      "metadata": {
        "id": "view-in-github",
        "colab_type": "text"
      },
      "source": [
        "<a href=\"https://colab.research.google.com/github/teku-teku/docker-django-postgresql/blob/master/create_interview_sheet.ipynb\" target=\"_parent\"><img src=\"https://colab.research.google.com/assets/colab-badge.svg\" alt=\"Open In Colab\"/></a>"
      ]
    },
    {
      "cell_type": "code",
      "execution_count": 1,
      "metadata": {
        "id": "VxzMoFcUshrE",
        "outputId": "25c974dd-9821-47ea-b98d-487142a0ae8f",
        "colab": {
          "base_uri": "https://localhost:8080/"
        }
      },
      "outputs": [
        {
          "output_type": "stream",
          "name": "stdout",
          "text": [
            "Mounted at /content/drive\n"
          ]
        }
      ],
      "source": [
        "from google.colab import drive\n",
        "drive.mount('/content/drive')\n",
        "\n",
        "import csv\n",
        "import openpyxl\n",
        "\n",
        "import os\n",
        "os.chdir('/content/drive/MyDrive/選考業務自動化プログラム/申込者データ・面接シート作成/')\n",
        "\n",
        "def main():\n",
        "  applicant_list = []\n",
        "  with open('申込者データ/申込者一覧.csv', 'r',encoding=\"utf-8\") as f:\n",
        "    for row in csv.DictReader(f):\n",
        "      if row[\"氏名\"]:\n",
        "        applicant_list.append(row)\n",
        "\n",
        "  form_list = []\n",
        "  with open('申込者データ/forms.csv', 'r',encoding=\"utf-8\") as f:\n",
        "    for row in csv.DictReader(f):\n",
        "      form_list.append(row)\n",
        "\n",
        "  result_list = []\n",
        "  sort_interview_time = []\n",
        "\n",
        "\n",
        "  if form_list:\n",
        "    #JICOOのデフォルト項目の名寄せ\n",
        "    if \"name\" in form_list[0]:\n",
        "      form_name_column = \"name\"\n",
        "    elif \"名前\" in form_list[0]:\n",
        "      form_name_column = \"名前\"\n",
        "    else:\n",
        "      print(\"[ERROR]JICOOのデータに「名前（name）」の項目が含まれていません\")\n",
        "      return\n",
        "\n",
        "    if \"email\" in form_list[0]:\n",
        "      form_email_column = \"email\"\n",
        "    elif \"メールアドレス\" in form_list[0]:\n",
        "      form_email_column = \"メールアドレス\"\n",
        "    else:\n",
        "      print(\"[ERROR]JICOOのデータに「メールアドレス（email）」の項目が含まれていません\")\n",
        "      return\n",
        "\n",
        "    if \"reservation start time\" in form_list[0]:\n",
        "      form_reservation_column = \"reservation start time\"\n",
        "    elif \"予約開始時間\" in form_list[0]:\n",
        "      form_reservation_column = \"予約開始時間\"\n",
        "    else:\n",
        "      print(\"[ERROR]JICOOのデータに「予約開始時間（reservation start time）」の項目が含まれていません\")\n",
        "      return\n",
        "\n",
        "    #changed item name\n",
        "    if \"ハローワーク住所（記入例：184-0000\\u3000東京都新宿区新宿1-0-0）※郵便番号は必須\" in form_list[0]:#2月8日開講の講座までこのヘッダー\n",
        "      form_address_column = \"ハローワーク住所（記入例：184-0000\\u3000東京都新宿区新宿1-0-0）※郵便番号は必須\"\n",
        "    elif \"ハローワーク住所（記入例：東京都新宿区新宿1-0-0）※受講申込書通りにご記入ください\" in form_list[0]:\n",
        "      form_address_column = \"ハローワーク住所（記入例：東京都新宿区新宿1-0-0）※受講申込書通りにご記入ください\"\n",
        "    else:\n",
        "      print(\"[ERROR]JICOOのデータに「ハローワーク住所」の項目が含まれていないか、変更がありました。開発者に伝えてください\")\n",
        "      return\n",
        "\n",
        "  for i in range(len(applicant_list)):\n",
        "    for form_item in form_list:\n",
        "      if (applicant_list[i][\"電話番号\\n(携帯優先)\"] and applicant_list[i][\"電話番号\\n(携帯優先)\"].strip() == form_item['電話番号（090-0000-0000）'].strip()) \\\n",
        "        or (applicant_list[i][\"メールアドレス\"] and applicant_list[i][\"メールアドレス\"].strip() == form_item[form_email_column].strip()) \\\n",
        "        or (applicant_list[i][\"氏名\"] and applicant_list[i][\"氏名\"].replace(\" \", \"\").replace(\"　\", \"\") == form_item[form_name_column].replace(\" \", \"\").replace(\"　\", \"\")):\n",
        "        applicant_list[i][\"誕生日\"] = form_item['生年月日（記入方法：1999/1/1\\u3000半角数字）'] if not applicant_list[i][\"誕生日\"] else applicant_list[i][\"誕生日\"]\n",
        "        applicant_list[i][\"よみがな\"] = form_item['ふりがな'] if not applicant_list[i][\"よみがな\"] else applicant_list[i][\"よみがな\"]\n",
        "        applicant_list[i][\"ハローワーク名\"] = form_item['受付ハローワーク名（記入方法：渋谷公共職業安定所）※受講申込書通りにご記入ください'] if not applicant_list[i][\"ハローワーク名\"] else applicant_list[i][\"ハローワーク名\"]\n",
        "        applicant_list[i][\"ハローワーク住所\"] = form_item[form_address_column] if not applicant_list[i][\"ハローワーク住所\"] else applicant_list[i][\"ハローワーク住所\"]\n",
        "        applicant_list[i][\"電話番号\"] = form_item['ハローワーク電話番号（03-0000-0000）※受講申込書通りにご記入ください'] if not applicant_list[i][\"電話番号\"] else applicant_list[i][\"電話番号\"]\n",
        "        applicant_list[i][\"電話番号\\n(携帯優先)\"] = form_item['電話番号（090-0000-0000）'] if not applicant_list[i][\"電話番号\\n(携帯優先)\"] else applicant_list[i][\"電話番号\\n(携帯優先)\"]\n",
        "        applicant_list[i][\"面接時間\"] = form_item[form_reservation_column].split(\" \")[1][:-3]\n",
        "        #追加の項目\n",
        "        if \"ハローワーク郵便番号（記入例：184-0000）※郵便番号のみを記載\" in form_item:\n",
        "          applicant_list[i][\"郵便番号\"] = form_item[\"ハローワーク郵便番号（記入例：184-0000）※郵便番号のみを記載\"]\n",
        "        if (form_item[form_reservation_column]):\n",
        "          sort_interview_time.append(form_item[form_reservation_column].split(\" \")[1][:-3])\n",
        "        break\n",
        "    result_list.append(applicant_list[i])\n",
        "\n",
        "  with open('申込者データ/結合済_申込データ.csv', 'w',encoding=\"utf-8\") as f:\n",
        "    header = result_list[0].keys()\n",
        "    writer = csv.DictWriter(f, fieldnames=header)\n",
        "    writer.writeheader()\n",
        "    writer.writerows(result_list)\n",
        "\n",
        "  #create interview sheet\n",
        "  wb = openpyxl.load_workbook('面接シート/面接シート_テンプレート.xlsx')\n",
        "\n",
        "  if not '別紙２(記録)' in wb.sheetnames:\n",
        "    print(\"[ERROR]シート「別紙２(記録)」が含まれていません\")\n",
        "    return\n",
        "\n",
        "  sheet = wb['別紙２(記録)']\n",
        "\n",
        "  sort_interview_time.sort()\n",
        "  for sort_flag in sort_interview_time:\n",
        "    for i in range(len(result_list)):\n",
        "      if result_list[i]['面接時間'] and result_list[i]['面接時間'] == sort_flag:\n",
        "        sheet_copy = wb.copy_worksheet(wb['別紙２(記録)'])\n",
        "        interview_time = result_list[i]['面接時間'].replace(\":\", \"\")\n",
        "        if len(interview_time) == 3:\n",
        "            interview_time = \"0\" + interview_time\n",
        "        name = result_list[i]['氏名']\n",
        "        sheet_copy.title = interview_time + name\n",
        "  #copy file\n",
        "  wb.save(f'面接シート/面接シート.xlsx')\n",
        "\n",
        "main()"
      ]
    },
    {
      "cell_type": "code",
      "source": [
        "from google.colab import drive\n",
        "drive.mount('/content/drive')"
      ],
      "metadata": {
        "colab": {
          "base_uri": "https://localhost:8080/"
        },
        "id": "H_tTO884JAOx",
        "outputId": "7ba72596-2e22-4ddf-8320-6cebf0152f32"
      },
      "execution_count": null,
      "outputs": [
        {
          "output_type": "stream",
          "name": "stdout",
          "text": [
            "Drive already mounted at /content/drive; to attempt to forcibly remount, call drive.mount(\"/content/drive\", force_remount=True).\n"
          ]
        }
      ]
    },
    {
      "cell_type": "markdown",
      "source": [],
      "metadata": {
        "id": "q2rB2YS-ZxFm"
      }
    }
  ]
}